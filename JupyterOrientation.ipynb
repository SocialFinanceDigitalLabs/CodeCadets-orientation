{
 "cells": [
  {
   "cell_type": "markdown",
   "metadata": {},
   "source": [
    "# Welcome to Jupyter Notebook\n",
    "\n",
    "Jupyter Notebook is an environment where you can interactively run Python code.\n",
    "\n",
    "You can also intersperse your code with text, like the text you're reading now. This makes Jupyter Notebook an excellent environment for delivering educational materials (like this one), or for assembling your working into a document that other people can follow. \n",
    "\n"
   ]
  },
  {
   "cell_type": "code",
   "execution_count": null,
   "metadata": {
    "collapsed": false
   },
   "outputs": [],
   "source": [
    "# Here is some python. To run it, highlight the cell and press\n",
    "# the \"play\" [>|] button in the toolbar above, or press Shift + Return\n",
    "# on your keyboard\n",
    "\n",
    "things = [\"pie\", \"cake\", \"anything you bake\"]\n",
    "\n",
    "for t in things:\n",
    "    print(\"I like %s\" % t)"
   ]
  },
  {
   "cell_type": "markdown",
   "metadata": {},
   "source": [
    "The \"unit\" of Jupyter Notebooks is the cell. There are different types of cells. The one above is a code cell. When you run it, it outputs the result of the code. This one is a *markdown* cell. It uses a markup language (confusingly called \"markdown\") to \"mark up\" the text in the cell.\n",
    "\n",
    "This allows you to carry out such exciting typographical tricks as **emboldening** or *italicising* text, \n",
    "\n",
    "# Making Headers\n",
    "## Of various sizes\n",
    "\n",
    "* making\n",
    "* bullet-pointed\n",
    "* lists\n",
    "\n",
    "\n",
    "\n",
    "1. or lists  \n",
    "2. that are  \n",
    "3. enumerated  \n",
    "\n",
    "Adding attractive horizontal rules to break up your content:\n",
    "\n",
    "---\n",
    "\n",
    "Including tables:\n",
    "\n",
    "| Tables        | Are           | Awesome |\n",
    "| ------------- |:-------------:| -----:  |\n",
    "| col 3 is      | right-aligned | £1600   |\n",
    "| col 2 is      | centered      |   £12   |\n",
    "| col 1 is      | just chillin' |    £1   |\n",
    "\n",
    "Embedding [links to other pages](https://www.youtube.com/watch?v=dQw4w9WgXcQ)\n",
    "\n",
    "Or embedding images:\n",
    "\n",
    "![Laser Panda](assets/laserpanda.jpg)\n",
    "\n",
    "Double-clicking on this cell will show you the \"raw\" text that hasn't been marked up. Running the cell (by pressing \"play\" or hitting Shift + Return) will render the text as marked up."
   ]
  },
  {
   "cell_type": "code",
   "execution_count": null,
   "metadata": {
    "collapsed": true
   },
   "outputs": [],
   "source": []
  },
  {
   "cell_type": "code",
   "execution_count": null,
   "metadata": {
    "collapsed": false
   },
   "outputs": [],
   "source": []
  },
  {
   "cell_type": "code",
   "execution_count": null,
   "metadata": {
    "collapsed": true
   },
   "outputs": [],
   "source": []
  },
  {
   "cell_type": "code",
   "execution_count": null,
   "metadata": {
    "collapsed": true
   },
   "outputs": [],
   "source": []
  }
 ],
 "metadata": {
  "anaconda-cloud": {},
  "kernelspec": {
   "display_name": "Python [conda env:stats]",
   "language": "python",
   "name": "conda-env-stats-py"
  },
  "language_info": {
   "codemirror_mode": {
    "name": "ipython",
    "version": 3
   },
   "file_extension": ".py",
   "mimetype": "text/x-python",
   "name": "python",
   "nbconvert_exporter": "python",
   "pygments_lexer": "ipython3",
   "version": "3.5.2"
  }
 },
 "nbformat": 4,
 "nbformat_minor": 2
}
